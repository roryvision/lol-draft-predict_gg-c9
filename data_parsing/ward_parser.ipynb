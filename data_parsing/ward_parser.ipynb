{
  "nbformat": 4,
  "nbformat_minor": 0,
  "metadata": {
    "colab": {
      "provenance": [],
      "authorship_tag": "ABX9TyOhQWWcyImIYSUiOhWdM6Wi"
    },
    "kernelspec": {
      "name": "python3",
      "display_name": "Python 3"
    },
    "language_info": {
      "name": "python"
    }
  },
  "cells": [
    {
      "cell_type": "markdown",
      "source": [
        "# Visual\n"
      ],
      "metadata": {
        "id": "usZrF9zMaw5Y"
      }
    },
    {
      "cell_type": "code",
      "source": [
        "import pandas as pd\n",
        "import numpy as np\n",
        "import matplotlib.pyplot as plt\n",
        "from matplotlib.animation import FuncAnimation\n",
        "from IPython.display import Video\n",
        "from google.colab import files\n",
        "\n"
      ],
      "metadata": {
        "id": "lJTuJGo5D24Y"
      },
      "execution_count": 12,
      "outputs": []
    },
    {
      "cell_type": "code",
      "source": [
        "df = pd.read_csv(\"Wards.csv\")\n",
        "df['total_minutes'] = df['game_time'] / (60 * 1000)  # Convert milliseconds to minutes\n",
        "df = df.dropna(subset=['total_minutes', 'Side']) # Drop rows with NaN values\n",
        "colors = {'control': 'red', 'blueTrinket': 'blue', 'yellowTrinket': 'yellow', 'sight': (57/255, 255/255, 20/255)}\n",
        "\n",
        "def create_animation(side):\n",
        "    side_df = df[df['Side'].str.lower() == side.lower()]\n",
        "    fig, ax = plt.subplots(figsize=(10, 10))\n",
        "    img = plt.imread(\"leagueMap.jpg\")\n",
        "    ax.imshow(img, extent=[0, 15000, 0, 15000])\n",
        "\n",
        "    def update(frame):\n",
        "        ax.clear()\n",
        "        ax.imshow(img, extent=[0, 15000, 0, 15000])\n",
        "        min_time = frame * 3\n",
        "        max_time = (frame + 1) * 3\n",
        "        subset = side_df[(side_df['total_minutes'] >= min_time) & (side_df['total_minutes'] < max_time)]\n",
        "        for ward_type, color in colors.items():\n",
        "            ward_subset = subset[subset['ward_type'] == ward_type]\n",
        "            ax.scatter(ward_subset['pos_x'], ward_subset['pos_y'], color=color, s=50, alpha=0.8)\n",
        "        ax.set_title(f'{side} Side Ward Placements from {min_time} to {max_time} minutes')\n",
        "        return ax,\n",
        "\n",
        "    frames = int(np.ceil(side_df['total_minutes'].max() / 3))\n",
        "    ani = FuncAnimation(fig, update, frames=frames, blit=False)\n",
        "\n",
        "    # Save the animation\n",
        "    ani.save(f'animation_{side}.mp4', writer='ffmpeg', fps=1)\n",
        "\n",
        "# Create animations for both sides\n",
        "create_animation('Blue')\n",
        "files.download('animation_Blue.mp4')\n",
        "\n",
        "create_animation('Red')\n",
        "files.download('animation_Red.mp4')\n"
      ],
      "metadata": {
        "id": "BObe0NamDqyQ"
      },
      "execution_count": null,
      "outputs": []
    }
  ]
}
